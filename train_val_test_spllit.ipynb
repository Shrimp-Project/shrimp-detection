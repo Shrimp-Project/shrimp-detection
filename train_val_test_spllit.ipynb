{
 "cells": [
  {
   "cell_type": "code",
   "execution_count": 42,
   "metadata": {},
   "outputs": [],
   "source": [
    "import os\n",
    "import re\n",
    "import shutil"
   ]
  },
  {
   "cell_type": "code",
   "execution_count": 30,
   "metadata": {},
   "outputs": [],
   "source": [
    "image_list = os.listdir('D:/For Me/3_Dataset/Shrimp/create')\n",
    "label_list = os.listdir('D:/For Me/3_Dataset/Shrimp/label')\n",
    "image_path = 'D:/For Me/3_Dataset/Shrimp/create'\n",
    "label_path = 'D:/For Me/3_Dataset/Shrimp/label'\n",
    "save_path = 'D:/For Me/3_Dataset/Shrimp'"
   ]
  },
  {
   "cell_type": "code",
   "execution_count": 31,
   "metadata": {},
   "outputs": [],
   "source": [
    "image_list.sort(key=lambda f: int(re.sub('\\D', '', f)))\n",
    "label_list.sort(key=lambda f: int(re.sub('\\D', '', f)))"
   ]
  },
  {
   "cell_type": "code",
   "execution_count": 39,
   "metadata": {},
   "outputs": [],
   "source": [
    "train_list = image_list[0:300]\n",
    "val_list = image_list[300:400]\n",
    "test_list = image_list[400:]"
   ]
  },
  {
   "cell_type": "code",
   "execution_count": 41,
   "metadata": {},
   "outputs": [
    {
     "data": {
      "text/plain": [
       "1"
      ]
     },
     "execution_count": 41,
     "metadata": {},
     "output_type": "execute_result"
    }
   ],
   "source": [
    "len(test_list)"
   ]
  },
  {
   "cell_type": "code",
   "execution_count": 69,
   "metadata": {},
   "outputs": [],
   "source": [
    "def creat_train_val_test(image_list, label_list, save_path):\n",
    "    mode = ['train', 'val', 'test']\n",
    "\n",
    "    for mode_idx in range(3):\n",
    "        if not os.path.exists(save_path + mode[mode_idx]):\n",
    "            os.makedirs(save_path + mode[mode_idx])\n",
    "            if not os.path.exists(save_path + mode[mode_idx] + '/img'):\n",
    "                os.makedirs(save_path + mode[mode_idx] + '/img')\n",
    "            if not os.path.exists(save_path + mode[mode_idx] + '/label'):\n",
    "                os.makedirs(save_path + mode[mode_idx] + '/label')\n",
    "\n",
    "        if mode_idx == 0:\n",
    "            image_list_split = image_list[:300]\n",
    "            label_list_split = label_list[:300]\n",
    "        elif mode_idx == 1:\n",
    "            image_list_split = image_list[300:400]\n",
    "            label_list_split = label_list[300:400]\n",
    "        else:\n",
    "            image_list_split = image_list[400:]\n",
    "            label_list_split = label_list[400:]\n",
    "        \n",
    "        for image_name in image_list_split:\n",
    "            shutil.copy(f\"{image_path}/{image_name}\", f\"{save_path}/{mode[mode_idx]}/img/{image_name}\")\n",
    "\n",
    "        for label_name in label_list_split:\n",
    "            shutil.copy(f\"{label_path}/{label_name}\", f\"{save_path}/{mode[mode_idx]}/label/{label_name}\")\n",
    "\n",
    "        f = open(f\"{save_path}/{mode[mode_idx]}/image_list.txt\", 'w')\n",
    "        for image_name in image_list_split:\n",
    "            f.write(f\"{image_name.split('.')[0]}\\n\")\n",
    "    \n",
    "    print(f\"Complete\")\n",
    "\n"
   ]
  },
  {
   "cell_type": "code",
   "execution_count": 70,
   "metadata": {},
   "outputs": [
    {
     "name": "stdout",
     "output_type": "stream",
     "text": [
      "Complete\n"
     ]
    }
   ],
   "source": [
    "creat_train_val_test(image_list, label_list, save_path)"
   ]
  }
 ],
 "metadata": {
  "interpreter": {
   "hash": "e32529c96856fd5c77a9cb8e707c5e11ccf57f199250bc146689ddab2cf49e75"
  },
  "kernelspec": {
   "display_name": "Python 3.7.11 64-bit ('shrimp-project': conda)",
   "name": "python3"
  },
  "language_info": {
   "codemirror_mode": {
    "name": "ipython",
    "version": 3
   },
   "file_extension": ".py",
   "mimetype": "text/x-python",
   "name": "python",
   "nbconvert_exporter": "python",
   "pygments_lexer": "ipython3",
   "version": "3.7.11"
  },
  "orig_nbformat": 4
 },
 "nbformat": 4,
 "nbformat_minor": 2
}
